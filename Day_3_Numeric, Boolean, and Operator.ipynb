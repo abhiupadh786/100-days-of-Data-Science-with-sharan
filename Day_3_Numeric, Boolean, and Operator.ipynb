{
 "cells": [
  {
   "cell_type": "markdown",
   "id": "8040f28e",
   "metadata": {},
   "source": [
    "### Topics to be covered today"
   ]
  },
  {
   "cell_type": "code",
   "execution_count": 2,
   "id": "33657b1d",
   "metadata": {},
   "outputs": [
    {
     "name": "stdout",
     "output_type": "stream",
     "text": [
      "1.Numeric data type (Integer and Float)\n",
      "2.Boolean\n",
      "3.Operators\n"
     ]
    }
   ],
   "source": [
    "topics = ['Numeric data type (Integer and Float)', 'Boolean', 'Operators']\n",
    "for i,each in enumerate(topics,start=1):\n",
    "    print (\"{}.{}\".format(i,each))"
   ]
  },
  {
   "cell_type": "markdown",
   "id": "b2a50233",
   "metadata": {},
   "source": [
    "1a. Define variable and find data type"
   ]
  },
  {
   "cell_type": "code",
   "execution_count": 3,
   "id": "fbc0eaa5",
   "metadata": {},
   "outputs": [
    {
     "name": "stdout",
     "output_type": "stream",
     "text": [
      "<class 'int'>\n",
      "<class 'float'>\n"
     ]
    }
   ],
   "source": [
    "input1 = 20\n",
    "print(type(input1))\n",
    "# Pass a decimal value\n",
    "input2 = 3.14\n",
    "print(type(input2))"
   ]
  },
  {
   "cell_type": "markdown",
   "id": "903dd304",
   "metadata": {},
   "source": [
    " 1b. Casting (Changing) to a different datatype"
   ]
  },
  {
   "cell_type": "code",
   "execution_count": 4,
   "id": "655f8d8b",
   "metadata": {},
   "outputs": [
    {
     "name": "stdout",
     "output_type": "stream",
     "text": [
      "20.0\n"
     ]
    }
   ],
   "source": [
    "new_i1 = float(input1)\n",
    "print(new_i1)"
   ]
  },
  {
   "cell_type": "code",
   "execution_count": 5,
   "id": "e29e00c3",
   "metadata": {},
   "outputs": [
    {
     "data": {
      "text/plain": [
       "float"
      ]
     },
     "execution_count": 5,
     "metadata": {},
     "output_type": "execute_result"
    }
   ],
   "source": [
    "type(input2)\n"
   ]
  },
  {
   "cell_type": "code",
   "execution_count": 6,
   "id": "d2f55ca5",
   "metadata": {},
   "outputs": [
    {
     "name": "stdout",
     "output_type": "stream",
     "text": [
      "3\n"
     ]
    }
   ],
   "source": [
    "new_i2 = int(input2)\n",
    "print(new_i2)\n"
   ]
  },
  {
   "cell_type": "code",
   "execution_count": 7,
   "id": "56263244",
   "metadata": {},
   "outputs": [
    {
     "name": "stdout",
     "output_type": "stream",
     "text": [
      "3\n"
     ]
    }
   ],
   "source": [
    "#What if it is 3.94\n",
    "input3 = 3.94\n",
    "new_i3 = int(input3)\n",
    "print(new_i3)"
   ]
  },
  {
   "cell_type": "markdown",
   "id": "553e6bbe",
   "metadata": {},
   "source": [
    "1. Boolean Operator"
   ]
  },
  {
   "cell_type": "code",
   "execution_count": 8,
   "id": "7d0abf7b",
   "metadata": {},
   "outputs": [
    {
     "name": "stdout",
     "output_type": "stream",
     "text": [
      "False\n"
     ]
    }
   ],
   "source": [
    "#boolean\n",
    "print(input1 < input2)"
   ]
  },
  {
   "cell_type": "code",
   "execution_count": 9,
   "id": "a7ac07b7",
   "metadata": {},
   "outputs": [
    {
     "name": "stdout",
     "output_type": "stream",
     "text": [
      "True\n"
     ]
    }
   ],
   "source": [
    "print(bool(input1))"
   ]
  },
  {
   "cell_type": "code",
   "execution_count": 10,
   "id": "66b177e8",
   "metadata": {},
   "outputs": [
    {
     "name": "stdout",
     "output_type": "stream",
     "text": [
      "False\n"
     ]
    }
   ],
   "source": [
    "input4 = None\n",
    "print(bool(input4))"
   ]
  },
  {
   "cell_type": "code",
   "execution_count": 11,
   "id": "b6dc0d47",
   "metadata": {},
   "outputs": [
    {
     "name": "stdout",
     "output_type": "stream",
     "text": [
      "True\n",
      "False\n"
     ]
    }
   ],
   "source": [
    "input5 = [1,2,3,4,5]\n",
    "print(bool(input5))\n",
    "#now create an emply array\n",
    "input6 = []\n",
    "print(bool(input6))"
   ]
  },
  {
   "cell_type": "code",
   "execution_count": 12,
   "id": "0ee75f3e",
   "metadata": {},
   "outputs": [
    {
     "name": "stdout",
     "output_type": "stream",
     "text": [
      "False\n"
     ]
    }
   ],
   "source": [
    "a = None\n",
    "print(bool(a))\n",
    "# pass with 0, None and None1 as string"
   ]
  },
  {
   "cell_type": "markdown",
   "id": "b0eab53f",
   "metadata": {},
   "source": [
    "3a. Arthimetic operator \n",
    "To Try - Division, addition, subtraction, mod and exp"
   ]
  },
  {
   "cell_type": "code",
   "execution_count": 15,
   "id": "31516cc4",
   "metadata": {},
   "outputs": [
    {
     "name": "stdout",
     "output_type": "stream",
     "text": [
      "1\n",
      "13\n",
      "9\n"
     ]
    }
   ],
   "source": [
    "#Operators\n",
    "#Arithmetic Operators\n",
    "x = 11\n",
    "y = 2\n",
    "print(x%y)\n",
    "print(x+y)\n",
    "print(x-y)"
   ]
  },
  {
   "cell_type": "markdown",
   "id": "7c116805",
   "metadata": {},
   "source": [
    "3b. Assignment Operator"
   ]
  },
  {
   "cell_type": "code",
   "execution_count": 16,
   "id": "208e205a",
   "metadata": {},
   "outputs": [
    {
     "name": "stdout",
     "output_type": "stream",
     "text": [
      "1000\n"
     ]
    }
   ],
   "source": [
    "#Assignment Operators\n",
    "x = 10\n",
    "x **= 3\n",
    "#x=x+3\n",
    "print(x)"
   ]
  },
  {
   "cell_type": "markdown",
   "id": "7aab10ab",
   "metadata": {},
   "source": [
    "3c. Comparison Operator"
   ]
  },
  {
   "cell_type": "code",
   "execution_count": 17,
   "id": "1135476d",
   "metadata": {},
   "outputs": [
    {
     "name": "stdout",
     "output_type": "stream",
     "text": [
      "False\n"
     ]
    }
   ],
   "source": [
    "#Comparison Operators\n",
    "x = 11\n",
    "y = 2\n",
    "print(x<=y)\n",
    "# Equal, Not Equal, Greater than, less than, Greater or equal and less than equal"
   ]
  },
  {
   "cell_type": "markdown",
   "id": "016f7d06",
   "metadata": {},
   "source": [
    "3d. Logical Operator"
   ]
  },
  {
   "cell_type": "code",
   "execution_count": 18,
   "id": "43dd1738",
   "metadata": {},
   "outputs": [
    {
     "name": "stdout",
     "output_type": "stream",
     "text": [
      "True\n"
     ]
    }
   ],
   "source": [
    "#Logical Operators\n",
    "x = 5\n",
    "print(x > 10 or x < 15)\n",
    "# or and not"
   ]
  },
  {
   "cell_type": "markdown",
   "id": "d3f69898",
   "metadata": {},
   "source": [
    "3e. Is and In Operators"
   ]
  },
  {
   "cell_type": "code",
   "execution_count": 19,
   "id": "f8964d69",
   "metadata": {},
   "outputs": [
    {
     "name": "stdout",
     "output_type": "stream",
     "text": [
      "False\n",
      "True\n"
     ]
    }
   ],
   "source": [
    "# is and in operators\n",
    "x = ['addition', 'subtraction', 'multiplication', 'division']\n",
    "y = ['addition', 'subtraction', 'multiplication', 'division']\n",
    "z = y\n",
    "print(x is y)\n",
    "print(\"addition\" in x)\n",
    "#print(z)"
   ]
  },
  {
   "cell_type": "markdown",
   "id": "1e205852",
   "metadata": {},
   "source": [
    "Create a float variable and convert it to integer"
   ]
  },
  {
   "cell_type": "code",
   "execution_count": 22,
   "id": "00a77be2",
   "metadata": {},
   "outputs": [
    {
     "data": {
      "text/plain": [
       "float"
      ]
     },
     "execution_count": 22,
     "metadata": {},
     "output_type": "execute_result"
    }
   ],
   "source": [
    "a = 7.5\n",
    "type(a)"
   ]
  },
  {
   "cell_type": "code",
   "execution_count": 24,
   "id": "16fc326b",
   "metadata": {},
   "outputs": [
    {
     "data": {
      "text/plain": [
       "int"
      ]
     },
     "execution_count": 24,
     "metadata": {},
     "output_type": "execute_result"
    }
   ],
   "source": [
    "b = int(a)\n",
    "type(b)"
   ]
  },
  {
   "cell_type": "markdown",
   "id": "e398415c",
   "metadata": {},
   "source": [
    "Multiple a float value with integer and check the data type of the resultant value"
   ]
  },
  {
   "cell_type": "code",
   "execution_count": 25,
   "id": "5fb16b5e",
   "metadata": {},
   "outputs": [
    {
     "data": {
      "text/plain": [
       "52.5"
      ]
     },
     "execution_count": 25,
     "metadata": {},
     "output_type": "execute_result"
    }
   ],
   "source": [
    "c = a * b\n",
    "c"
   ]
  },
  {
   "cell_type": "code",
   "execution_count": 26,
   "id": "ea9c772d",
   "metadata": {},
   "outputs": [
    {
     "data": {
      "text/plain": [
       "float"
      ]
     },
     "execution_count": 26,
     "metadata": {},
     "output_type": "execute_result"
    }
   ],
   "source": [
    "type(c)"
   ]
  },
  {
   "cell_type": "markdown",
   "id": "4d0d1de4",
   "metadata": {},
   "source": [
    "Create 2 variable with a integer and float value and use Boolean to check if the first one is greater than the second variable"
   ]
  },
  {
   "cell_type": "code",
   "execution_count": 27,
   "id": "8ba4ac31",
   "metadata": {},
   "outputs": [
    {
     "data": {
      "text/plain": [
       "True"
      ]
     },
     "execution_count": 27,
     "metadata": {},
     "output_type": "execute_result"
    }
   ],
   "source": [
    "a > b"
   ]
  },
  {
   "cell_type": "code",
   "execution_count": null,
   "id": "1cf2bb3f",
   "metadata": {},
   "outputs": [],
   "source": []
  }
 ],
 "metadata": {
  "kernelspec": {
   "display_name": "Python 3",
   "language": "python",
   "name": "python3"
  },
  "language_info": {
   "codemirror_mode": {
    "name": "ipython",
    "version": 3
   },
   "file_extension": ".py",
   "mimetype": "text/x-python",
   "name": "python",
   "nbconvert_exporter": "python",
   "pygments_lexer": "ipython3",
   "version": "3.8.8"
  }
 },
 "nbformat": 4,
 "nbformat_minor": 5
}
