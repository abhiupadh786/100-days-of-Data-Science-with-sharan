{
 "cells": [
  {
   "cell_type": "markdown",
   "id": "cb9e421e",
   "metadata": {},
   "source": [
    "### Creating variables and checking their basic data types\n",
    "#### Variable is a name that is used to refer to memory location. Python variable is also known as an identifier and used to hold value.\n",
    "\n",
    "##### In Python, we don't need to specify the type of variable because Python is a infer language and smart enough to get variable type.\n",
    "\n",
    "##### Variable names can be a group of both the letters and digits, but they have to begin with a letter or an underscore.\n",
    "\n",
    "##### It is recommended to use lowercase letters for the variable name. Rahul and rahul both are two different variables."
   ]
  },
  {
   "cell_type": "code",
   "execution_count": 2,
   "id": "ed1c29a5",
   "metadata": {},
   "outputs": [
    {
     "name": "stdout",
     "output_type": "stream",
     "text": [
      "Abhi\n",
      "Amit\n",
      "<class 'str'>\n",
      "<class 'str'>\n"
     ]
    }
   ],
   "source": [
    "#Python String can be declared either by using double \" \" or single ' ' quotes as given below and \n",
    "#a function named type() is used to know the type of variable.\n",
    "a = 'Abhi'\n",
    "b = \"Amit\"\n",
    "print(a)\n",
    "print(b)\n",
    "print(type(a))\n",
    "print(type(b))"
   ]
  },
  {
   "cell_type": "code",
   "execution_count": 3,
   "id": "0db03459",
   "metadata": {},
   "outputs": [
    {
     "name": "stdout",
     "output_type": "stream",
     "text": [
      "4\n",
      "<class 'int'>\n",
      "8.0\n",
      "<class 'float'>\n",
      "9.0\n",
      "<class 'float'>\n"
     ]
    }
   ],
   "source": [
    "#Python support two types of numbers Integers(Whole Numbers) and floating point(Decimal) numbers :- \n",
    "c = 4\n",
    "d = 8.0\n",
    "e = float(9)\n",
    "print(c)\n",
    "print(type(c))\n",
    "print(d)\n",
    "print(type(d))\n",
    "print(e)\n",
    "print(type(e))"
   ]
  },
  {
   "cell_type": "markdown",
   "id": "18b62693",
   "metadata": {},
   "source": [
    "### Casting "
   ]
  },
  {
   "cell_type": "code",
   "execution_count": 6,
   "id": "3ddda014",
   "metadata": {},
   "outputs": [
    {
     "name": "stdout",
     "output_type": "stream",
     "text": [
      "24\n",
      "17.0\n",
      "4\n",
      "<class 'str'>\n",
      "<class 'float'>\n",
      "<class 'int'>\n"
     ]
    }
   ],
   "source": [
    "#To specify the data type of a variable, this can be done with casting :-\n",
    "f = str(24)\n",
    "g = float(17)\n",
    "h = int(4)\n",
    "print(f)\n",
    "print(g)\n",
    "print(h)\n",
    "print(type(f))\n",
    "print(type(g))\n",
    "print(type(h))"
   ]
  },
  {
   "cell_type": "markdown",
   "id": "787956ec",
   "metadata": {},
   "source": [
    "### Changing data types :- Strings to Numeric data type and vice versa"
   ]
  },
  {
   "cell_type": "code",
   "execution_count": 14,
   "id": "45079678",
   "metadata": {},
   "outputs": [
    {
     "name": "stdout",
     "output_type": "stream",
     "text": [
      "88\n",
      "<class 'str'>\n",
      "88\n",
      "<class 'int'>\n",
      "88\n",
      "<class 'str'>\n"
     ]
    }
   ],
   "source": [
    "# First give a value to variable i and check it's type again change the type and print it \n",
    "i = \"88\"\n",
    "print(i)\n",
    "print(type(i))\n",
    "i = int(\"88\")\n",
    "print(i)\n",
    "print(type(i))\n",
    "i = str(88)\n",
    "print(i)\n",
    "print(type(i))"
   ]
  },
  {
   "cell_type": "markdown",
   "id": "c66401cf",
   "metadata": {},
   "source": [
    "### Changing data types :- Integer to Float data type and vice versa"
   ]
  },
  {
   "cell_type": "code",
   "execution_count": 15,
   "id": "c9764157",
   "metadata": {},
   "outputs": [
    {
     "name": "stdout",
     "output_type": "stream",
     "text": [
      "95\n",
      "<class 'int'>\n",
      "95.0\n",
      "<class 'float'>\n",
      "95.7\n",
      "<class 'float'>\n",
      "95\n",
      "<class 'int'>\n"
     ]
    }
   ],
   "source": [
    "j = 95\n",
    "print(j)\n",
    "print(type(j))\n",
    "j = float(95)\n",
    "print(j)\n",
    "print(type(j))\n",
    "k = 95.7\n",
    "print(k)\n",
    "print(type(k))\n",
    "k = int(95.7)\n",
    "print(k)\n",
    "print(type(k))"
   ]
  },
  {
   "cell_type": "markdown",
   "id": "c080692c",
   "metadata": {},
   "source": [
    "### String as arrays\n",
    "#### An array is defined as a collection of items that are stored at contiguous memory locations. It is a container which can hold a fixed number of items, and these items should be of the same type.\n",
    "#### Array is an idea of storing multiple items of the same type together and it makes easier to calculate the position of each element by simply adding an offset to the base value. A combination of the arrays could save a lot of time by reducing the overall size of the code. It is used to store multiple values in single variable."
   ]
  },
  {
   "cell_type": "code",
   "execution_count": 17,
   "id": "271a9598",
   "metadata": {},
   "outputs": [
    {
     "name": "stdout",
     "output_type": "stream",
     "text": [
      "Learn \n"
     ]
    }
   ],
   "source": [
    "l = \"Learn data science in 100 days! with RSharan\"\n",
    "print(l[0:6])\n"
   ]
  },
  {
   "cell_type": "code",
   "execution_count": 18,
   "id": "ce324c5f",
   "metadata": {},
   "outputs": [
    {
     "name": "stdout",
     "output_type": "stream",
     "text": [
      " data science in 100 days! with RSharan\n"
     ]
    }
   ],
   "source": [
    "print(l[5:])"
   ]
  },
  {
   "cell_type": "code",
   "execution_count": 20,
   "id": "34d59755",
   "metadata": {},
   "outputs": [
    {
     "name": "stdout",
     "output_type": "stream",
     "text": [
      "with RSharan\n"
     ]
    }
   ],
   "source": [
    "print(l[-12:])"
   ]
  },
  {
   "cell_type": "markdown",
   "id": "c6ac78ca",
   "metadata": {},
   "source": [
    "#### Strip() - to remove extra spaces in the beginning and end"
   ]
  },
  {
   "cell_type": "code",
   "execution_count": 21,
   "id": "43611c2f",
   "metadata": {},
   "outputs": [
    {
     "name": "stdout",
     "output_type": "stream",
     "text": [
      "    Data Science     \n",
      "Data Science\n"
     ]
    }
   ],
   "source": [
    "m = \"    Data Science     \"\n",
    "print(m)\n",
    "m1 = m.strip()\n",
    "print(m1)"
   ]
  },
  {
   "cell_type": "markdown",
   "id": "2c619420",
   "metadata": {},
   "source": [
    "#### split() and Splitting a Decimal number"
   ]
  },
  {
   "cell_type": "code",
   "execution_count": 26,
   "id": "9cc1278c",
   "metadata": {},
   "outputs": [
    {
     "name": "stdout",
     "output_type": "stream",
     "text": [
      "['2020', '09', '01']\n"
     ]
    }
   ],
   "source": [
    "n = \"2020-09-01\"\n",
    "print(n.split(\"-\"))"
   ]
  },
  {
   "cell_type": "code",
   "execution_count": 28,
   "id": "a9aa060c",
   "metadata": {},
   "outputs": [
    {
     "name": "stdout",
     "output_type": "stream",
     "text": [
      "12.87654321\n",
      "<class 'float'>\n",
      "(0.8765432099999995, 12.0)\n"
     ]
    }
   ],
   "source": [
    "import math\n",
    "o = 12.87654321\n",
    "print(o)\n",
    "print(type(o))\n",
    "o1 = math.modf(o)\n",
    "\n",
    "print(n1)"
   ]
  },
  {
   "cell_type": "markdown",
   "id": "1827d8b4",
   "metadata": {},
   "source": [
    "### Concatenation :- It includes the operation of joining two or more strings together."
   ]
  },
  {
   "cell_type": "code",
   "execution_count": 30,
   "id": "f773d1c4",
   "metadata": {},
   "outputs": [
    {
     "name": "stdout",
     "output_type": "stream",
     "text": [
      "Data Science And Machine Learning\n"
     ]
    }
   ],
   "source": [
    "p1 = \"Data Science\"\n",
    "p2 = \"And Machine Learning\"\n",
    "p3  = p1+\" \"+p2\n",
    "print(p3)"
   ]
  },
  {
   "cell_type": "markdown",
   "id": "ac87ea89",
   "metadata": {},
   "source": [
    "#### Replacing text "
   ]
  },
  {
   "cell_type": "code",
   "execution_count": 31,
   "id": "1f5d1e30",
   "metadata": {},
   "outputs": [
    {
     "name": "stdout",
     "output_type": "stream",
     "text": [
      "As data scientists, our job is to extract information from noise. information signal signal\n"
     ]
    }
   ],
   "source": [
    "txt1 = \"As data scientists, our job is to extract signal from noise. signal signal signal\"\n",
    "new_txt = txt1.replace(\"signal\", \"information\", 2)\n",
    "print(new_txt)"
   ]
  },
  {
   "cell_type": "code",
   "execution_count": null,
   "id": "558b3ff6",
   "metadata": {},
   "outputs": [],
   "source": []
  }
 ],
 "metadata": {
  "kernelspec": {
   "display_name": "Python 3",
   "language": "python",
   "name": "python3"
  },
  "language_info": {
   "codemirror_mode": {
    "name": "ipython",
    "version": 3
   },
   "file_extension": ".py",
   "mimetype": "text/x-python",
   "name": "python",
   "nbconvert_exporter": "python",
   "pygments_lexer": "ipython3",
   "version": "3.8.8"
  }
 },
 "nbformat": 4,
 "nbformat_minor": 5
}
